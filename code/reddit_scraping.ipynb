{
 "cells": [
  {
   "attachments": {},
   "cell_type": "markdown",
   "metadata": {},
   "source": [
    "## Scraping data from reddit to obtain users emotions on D.C. walkability and traffic"
   ]
  },
  {
   "attachments": {},
   "cell_type": "markdown",
   "metadata": {},
   "source": [
    "Connecting using credentials"
   ]
  },
  {
   "cell_type": "code",
   "execution_count": 1,
   "metadata": {},
   "outputs": [
    {
     "name": "stdout",
     "output_type": "stream",
     "text": [
      "Name: redditdev\n",
      "Title: reddit Development\n",
      "Description: A subreddit for discussion of Reddit's API and Reddit API clients.\n",
      "\n",
      "* [Read the API Overview & Rules](https://github.com/reddit/reddit/wiki/API)\n",
      "* [Check out the API documentation](http://www.reddit.com/dev/api)\n",
      "* [PRAW chat](https://join.slack.com/t/praw/shared_invite/enQtOTUwMDcxOTQ0NzY5LWVkMGQ3ZDk5YmQ5MDEwYTZmMmJkMTJkNjBkNTY3OTU0Y2E2NGRlY2ZhZTAzMWZmMWRiMTMwYjdjODkxOGYyZjY)\n",
      "* [Snoowrap chat](https://gitter.im/not-an-aardvark/snoowrap)\n",
      "* [Unofficial Discord](https://discord.gg/hVMhxpV)\n",
      "* Please do not request bots here. Consider /r/requestabot instead.\n",
      "\n",
      "\n",
      "Please confine discussion to Reddit's API instead of using this as a soapbox to talk to the admins. In particular, use [/r/ideasfortheadmins](/r/ideasfortheadmins) for feature ideas and [/r/bugs](/r/bugs) for bugs. If you have general reddit questions, try [/r/help](/r/help).\n",
      "\n",
      "To see an explanation of recent user-facing changes to reddit (and the code behind them), check out /r/changelog.\n",
      "\n",
      "---\n",
      "\n",
      "To report a security issue with reddit, please send an email to <security@reddit.com> .\n",
      "\n",
      "This is an admin-sponsored subreddit.\n"
     ]
    }
   ],
   "source": [
    "import praw\n",
    "import pandas as pd\n",
    "\n",
    "reddit_read_only = praw.Reddit(client_id=\"\",\n",
    "\t\t\t\t\t\t\tclient_secret=\"\",\n",
    "\t\t\t\t\t\t\tuser_agent=\"Walkability_DC\")\n",
    "\n",
    "\n",
    "subreddit = reddit_read_only.subreddit(\"redditdev\")\n",
    "\n",
    "print(\"Name:\", subreddit.display_name)\n",
    "print(\"Title:\", subreddit.title)\n",
    "print(\"Description:\", subreddit.description)"
   ]
  },
  {
   "attachments": {},
   "cell_type": "markdown",
   "metadata": {},
   "source": [
    "Test to gather hot topics"
   ]
  },
  {
   "cell_type": "code",
   "execution_count": 2,
   "metadata": {},
   "outputs": [
    {
     "name": "stdout",
     "output_type": "stream",
     "text": [
      "Sunday Daily Thread: What's everyone working on this week?\n",
      "\n",
      "Saturday Daily Thread: Resource Request and Sharing! Daily Thread\n",
      "\n",
      "Google announces the list of 574 Python packages in its new \"Assured Open Source Software\" service\n",
      "\n",
      "Announcing Polyfactory - a powerful mock data generator for dataclasses, Pydantic and more\n",
      "\n",
      "Fluke v0.3.0 has been released!\n",
      "\n"
     ]
    }
   ],
   "source": [
    "subreddit = reddit_read_only.subreddit(\"Python\")\n",
    "\n",
    "for post in subreddit.hot(limit=5):\n",
    "\tprint(post.title)\n",
    "\tprint()"
   ]
  },
  {
   "cell_type": "code",
   "execution_count": 6,
   "metadata": {},
   "outputs": [
    {
     "name": "stdout",
     "output_type": "stream",
     "text": [
      "incorrect url: https://www.reddit.com/r/bikedc/?f=flair_name%3A%22Advocacy%22\n"
     ]
    }
   ],
   "source": [
    "\"\"\"\n",
    "Generating dictionary to store comments per topic\n",
    "\"\"\"\n",
    "bikes_urls = [\n",
    "        \"https://www.reddit.com/r/washingtondc/comments/tf61c3/best_dc_neighborhoods_for_biking/\",\n",
    "        \"https://www.reddit.com/r/washingtondc/comments/3fqimr/capital_bikeshare_to_get_new_bicycles_add_nearly/\",\n",
    "        \"https://www.reddit.com/r/bikedc/comments/10broi8/survey_wealthy_neighborhood_creates_a_very_biased/\",\n",
    "        \"https://www.reddit.com/r/bikedc/comments/tf8272/which_dc_neighborhoods_have_the_largest/\",\n",
    "        \"https://www.reddit.com/r/bikedc/comments/twwsyg/in_a_dc_neighborhood_group/\",\n",
    "        \"https://www.reddit.com/r/bikedc/comments/p0ibhz/best_neighborhood_in_the_city_to_live_in_with_a/\",\n",
    "        \"https://www.reddit.com/r/bikedc/comments/wh74p0/ebike_viability_safety_and_insurance/\",\n",
    "        \"https://www.reddit.com/r/bikedc/comments/wtftv2/how_is_biking_in_old_town_alexandria/\",\n",
    "        \"https://www.reddit.com/r/bikedc/comments/viztbt/safety_on_m_st_in_georgetown/\",\n",
    "        \"https://www.reddit.com/r/bikedc/comments/uwwedy/dc_cycling_google_map_project_anyone_willing_to/\",\n",
    "        \"https://www.reddit.com/r/bikedc/?f=flair_name%3A%22Advocacy%22\",\n",
    "        \"https://www.reddit.com/r/bikedc/comments/pey7bz/where_to_live_for_access_to_biking/\",\n",
    "        \"https://www.reddit.com/r/bikedc/comments/125wypf/new_old_georgetown_bike_lanes_doing_their_job/\"\n",
    "        ]\n",
    "cars_urls = [\n",
    "        \"https://www.reddit.com/r/washingtondc/comments/127nkyr/the_metro_is_the_reason_my_car_stays_in_the/\",\n",
    "        \"https://www.reddit.com/r/washingtondc/comments/z16lym/how_bad_is_traffic_out_of_dc_on_tuesday_in_the/\",\n",
    "        \"https://www.reddit.com/r/washingtondc/comments/w1mveu/will_tripling_the_dc_traffic_cams_do_anything/\",\n",
    "        \"https://www.reddit.com/r/washingtondc/comments/y2wbg1/dc_area_traffic_is_the_worst/\",\n",
    "        \"https://www.reddit.com/r/washingtondc/comments/11hsl31/dc_traffic/\"\n",
    "\n",
    "]\n",
    "walk_urls = [\n",
    "        \"https://www.reddit.com/r/washingtondc/comments/10m21lq/what_is_your_favorite_neighborhoodarea/\",\n",
    "        \"https://www.reddit.com/r/washingtondc/comments/xyp5gy/neighborhoods_like_noma_crystal_city_are_growing/\",\n",
    "        \"https://www.reddit.com/r/washingtondc/comments/1187atx/if_youre_willing_to_sacrifice_spaceliving_in_an/\",\n",
    "        \"https://www.reddit.com/r/washingtondc/comments/v1qtgm/new_research_addresses_equity_in_dcs_walkability/\",\n",
    "        \"https://www.reddit.com/r/washingtondc/comments/129raja/im_not_sure_if_some_people_on_this_subreddit/\",\n",
    "        \"https://www.reddit.com/r/fuckcars/comments/u4fek0/i_moved_to_dc_for_the_walkability_and_im_not/\",\n",
    "        \"https://www.reddit.com/r/washingtondc/comments/wt8r01/what_are_the_major_organizations_working_to/\",\n",
    "        \"https://www.reddit.com/r/washingtondc/comments/ceu7oo/dc_ranks_among_most_walkable_cities_but_at_a_cost/\",\n",
    "        \"https://www.reddit.com/r/washingtondc/comments/tjqft5/prettiest_walkable_neighborhoods_in_dc/\",\n",
    "        \"https://www.reddit.com/r/Pokemongo_DC/comments/ysnedd/going_to_be_in_dc_by_the_mall_tomorrow_whats_the/\",\n",
    "        \"https://www.reddit.com/r/washingtondc/comments/11lvork/what_are_your_favorite_walkable_downtowns_near_dc/\",\n",
    "        \"https://www.reddit.com/r/washingtondc/comments/yith75/walkable_destinations_near_new_silver_line/\",\n",
    "        \"https://www.reddit.com/r/washingtondc/comments/am680h/most_walkable_fun_dc_suburbs/\",\n",
    "        \"https://www.reddit.com/r/washingtondc/comments/qfxhua/what_do_you_like_about_living_in_dc/\",\n",
    "        \"https://www.reddit.com/r/washingtondc/comments/zz8i1d/trying_to_understand_why_im_struggling_to_love_dc/\",\n",
    "        \"https://www.reddit.com/r/washingtondc/comments/10mt0u5/does_this_subreddit_represent_the_true_sentiment/\",\n",
    "        \"https://www.reddit.com/r/washingtondc/comments/7bmyoa/the_dc_council_says_its_for_a_walkable_city_then/\",\n",
    "        \"https://www.reddit.com/r/washingtondc/comments/ywa7ki/where_do_people_with_families_live_in_dc/\"\n",
    "        \"https://www.reddit.com/r/washingtondc/comments/10csyr6/looking_for_neighborhoods_to_take_walks/\",\n",
    "]\n",
    "\n",
    "topics = {\"bikes\":[bikes_urls],\n",
    "          \"cars\":[cars_urls],\n",
    "          \"walk\":[walk_urls],\n",
    "        }\n",
    "\n",
    "for key in topics.keys():\n",
    "    comments = []\n",
    "    for url in topics[key][0]:\n",
    "        try:\n",
    "                submission = reddit_read_only.submission(url=url)\n",
    "        except:\n",
    "             print(\"incorrect url:\",url)\n",
    "             continue\n",
    "        submission.comments.replace_more(limit=0)\n",
    "        for comment in submission.comments.list():\n",
    "            comments.append(comment.body)\n",
    "    topics[key].append(comments)\n"
   ]
  },
  {
   "cell_type": "code",
   "execution_count": 7,
   "metadata": {},
   "outputs": [
    {
     "data": {
      "text/html": [
       "<div>\n",
       "<style scoped>\n",
       "    .dataframe tbody tr th:only-of-type {\n",
       "        vertical-align: middle;\n",
       "    }\n",
       "\n",
       "    .dataframe tbody tr th {\n",
       "        vertical-align: top;\n",
       "    }\n",
       "\n",
       "    .dataframe thead th {\n",
       "        text-align: right;\n",
       "    }\n",
       "</style>\n",
       "<table border=\"1\" class=\"dataframe\">\n",
       "  <thead>\n",
       "    <tr style=\"text-align: right;\">\n",
       "      <th></th>\n",
       "      <th>bikes</th>\n",
       "      <th>cars</th>\n",
       "      <th>walk</th>\n",
       "    </tr>\n",
       "  </thead>\n",
       "  <tbody>\n",
       "    <tr>\n",
       "      <th>0</th>\n",
       "      <td>Might want to repost on r/bikedc for a differe...</td>\n",
       "      <td>I probably wouldn't be living in the area if i...</td>\n",
       "      <td>I’ve had different favorites as I’ve aged. Whe...</td>\n",
       "    </tr>\n",
       "    <tr>\n",
       "      <th>1</th>\n",
       "      <td>Honestly the city as a whole has become very b...</td>\n",
       "      <td>I didn't even bring my car when I moved to the...</td>\n",
       "      <td>Mt. Pleasant. You go there/live there and you ...</td>\n",
       "    </tr>\n",
       "    <tr>\n",
       "      <th>2</th>\n",
       "      <td>If you work downtown, there’s a protected bike...</td>\n",
       "      <td>I don't own a car. If not for the Metro (and M...</td>\n",
       "      <td>I'm surprised no one has said Capitol Hill</td>\n",
       "    </tr>\n",
       "    <tr>\n",
       "      <th>3</th>\n",
       "      <td>[Here’s a bike map from DDOT](https://ddot.dc....</td>\n",
       "      <td>My bike is a bigger reason my car is mostly a ...</td>\n",
       "      <td>Mt. Pleasant.\\n\\n&amp;#x200B;\\n\\nI always said if ...</td>\n",
       "    </tr>\n",
       "    <tr>\n",
       "      <th>4</th>\n",
       "      <td>Are you planning to bike to work? For utility ...</td>\n",
       "      <td>For me, it's not so much that I'm driving less...</td>\n",
       "      <td>I love Adams Morgan. There’s something for eve...</td>\n",
       "    </tr>\n",
       "  </tbody>\n",
       "</table>\n",
       "</div>"
      ],
      "text/plain": [
       "                                               bikes  \\\n",
       "0  Might want to repost on r/bikedc for a differe...   \n",
       "1  Honestly the city as a whole has become very b...   \n",
       "2  If you work downtown, there’s a protected bike...   \n",
       "3  [Here’s a bike map from DDOT](https://ddot.dc....   \n",
       "4  Are you planning to bike to work? For utility ...   \n",
       "\n",
       "                                                cars  \\\n",
       "0  I probably wouldn't be living in the area if i...   \n",
       "1  I didn't even bring my car when I moved to the...   \n",
       "2  I don't own a car. If not for the Metro (and M...   \n",
       "3  My bike is a bigger reason my car is mostly a ...   \n",
       "4  For me, it's not so much that I'm driving less...   \n",
       "\n",
       "                                                walk  \n",
       "0  I’ve had different favorites as I’ve aged. Whe...  \n",
       "1  Mt. Pleasant. You go there/live there and you ...  \n",
       "2         I'm surprised no one has said Capitol Hill  \n",
       "3  Mt. Pleasant.\\n\\n&#x200B;\\n\\nI always said if ...  \n",
       "4  I love Adams Morgan. There’s something for eve...  "
      ]
     },
     "execution_count": 7,
     "metadata": {},
     "output_type": "execute_result"
    }
   ],
   "source": [
    "#generation of dataframe with all threads per category\n",
    "df_reddit = pd.DataFrame(data=[topics[\"bikes\"][1],topics[\"cars\"][1],topics[\"walk\"][1]]).T\n",
    "df_reddit = df_reddit.rename(columns={0:\"bikes\", 1:\"cars\", 2:\"walk\"})\n",
    "\n",
    "df_reddit.head()"
   ]
  },
  {
   "cell_type": "code",
   "execution_count": 8,
   "metadata": {},
   "outputs": [],
   "source": [
    "df_reddit.to_csv(\"../data/reddit.csv\",index=False)"
   ]
  },
  {
   "attachments": {},
   "cell_type": "markdown",
   "metadata": {},
   "source": [
    "things to improve: deep into the sentiment analysis, incorporate likes to certain comments to give them more weight"
   ]
  },
  {
   "attachments": {},
   "cell_type": "markdown",
   "metadata": {},
   "source": [
    "important findings:\n",
    "\n",
    "I often times see \"making DC a better place to live\", but the question I ask often is \"for who?\". For those making enough to live in the inner-most part of the city? How do lower/working class individuals work, live, and enjoy this same city when the commute to do so.. is becoming unmanageable?"
   ]
  }
 ],
 "metadata": {
  "kernelspec": {
   "display_name": "anly503",
   "language": "python",
   "name": "python3"
  },
  "language_info": {
   "codemirror_mode": {
    "name": "ipython",
    "version": 3
   },
   "file_extension": ".py",
   "mimetype": "text/x-python",
   "name": "python",
   "nbconvert_exporter": "python",
   "pygments_lexer": "ipython3",
   "version": "3.10.8"
  },
  "orig_nbformat": 4
 },
 "nbformat": 4,
 "nbformat_minor": 2
}
