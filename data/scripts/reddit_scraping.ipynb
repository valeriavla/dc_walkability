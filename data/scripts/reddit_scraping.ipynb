{
 "cells": [
  {
   "attachments": {},
   "cell_type": "markdown",
   "metadata": {},
   "source": [
    "## Scraping data from reddit to obtain users emotions on D.C. walkability and traffic"
   ]
  },
  {
   "cell_type": "code",
   "execution_count": null,
   "metadata": {},
   "outputs": [],
   "source": [
    "import praw\n",
    "import pandas as pd\n",
    "\n",
    "reddit_read_only = praw.Reddit(client_id=\"\",\n",
    "\t\t\t\t\t\t\tclient_secret=\"\",\n",
    "\t\t\t\t\t\t\tuser_agent=\"\")\n",
    "\n",
    "\n",
    "subreddit = reddit_read_only.subreddit(\"redditdev\")\n",
    "\n",
    "print(\"Name:\", subreddit.display_name)\n",
    "print(\"Title:\", subreddit.title)\n",
    "print(\"Description:\", subreddit.description)"
   ]
  },
  {
   "cell_type": "code",
   "execution_count": null,
   "metadata": {},
   "outputs": [],
   "source": [
    "subreddit = reddit_read_only.subreddit(\"Python\")\n",
    "\n",
    "for post in subreddit.hot(limit=5):\n",
    "\tprint(post.title)\n",
    "\tprint()"
   ]
  }
 ],
 "metadata": {
  "kernelspec": {
   "display_name": "anly503",
   "language": "python",
   "name": "python3"
  },
  "language_info": {
   "name": "python",
   "version": "3.10.8"
  },
  "orig_nbformat": 4
 },
 "nbformat": 4,
 "nbformat_minor": 2
}
